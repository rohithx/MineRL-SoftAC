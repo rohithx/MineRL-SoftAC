{
 "cells": [
  {
   "cell_type": "code",
   "execution_count": 1,
   "metadata": {},
   "outputs": [
    {
     "name": "stderr",
     "output_type": "stream",
     "text": [
      "C:\\Users\\X\\anaconda3\\envs\\myenv\\lib\\site-packages\\gym\\logger.py:30: UserWarning: \u001b[33mWARN: Box bound precision lowered by casting to float32\u001b[0m\n",
      "  warnings.warn(colorize('%s: %s'%('WARN', msg % args), 'yellow'))\n"
     ]
    }
   ],
   "source": [
    "#\n",
    "# From https://minerl.io/docs/environments/index.html#id9\n",
    "#\n",
    "import gym\n",
    "from gym import spaces\n",
    "import minerl\n",
    "import logging\n",
    "import numpy as np\n",
    "import collections\n",
    "import torch\n",
    "from itertools import chain"
   ]
  },
  {
   "cell_type": "code",
   "execution_count": 2,
   "metadata": {},
   "outputs": [],
   "source": [
    "device = torch.device(\"cuda:0\")"
   ]
  },
  {
   "cell_type": "code",
   "execution_count": 7,
   "metadata": {},
   "outputs": [],
   "source": [
    "env = gym.make(\"MineRLNavigateDense-v0\") # A MineRLNavigateDense-v0 env"
   ]
  },
  {
   "cell_type": "code",
   "execution_count": 8,
   "metadata": {},
   "outputs": [],
   "source": [
    "# Run a random agent through the environment\n",
    "def train(env, agent, config):\n",
    "    \n",
    "    num_episodes = config[\"NUM_EPISODES\"]\n",
    "    episodic_rewards = [0] * num_episodes\n",
    "    episodic_moves = [0] * num_episodes\n",
    "    \n",
    "    for episode in range(num_episodes):\n",
    "        obs = env.reset()\n",
    "        done = False\n",
    "        net_reward = 0\n",
    "        steps = 0\n",
    "        \n",
    "        obs[\"pov\"] = obs[\"pov\"].reshape(3,64,64)\n",
    "        obs[\"pov\"] = torch.from_numpy(obs[\"pov\"]).float().to(device).unsqueeze(0)\n",
    "        obs[\"compassAngle\"] = torch.from_numpy(obs[\"compassAngle\"]).float().to(device).unsqueeze(0)\n",
    "                                      \n",
    "        while not done:\n",
    "            # this is only outputting the camera controls\n",
    "            camera_action = agent.step(obs)\n",
    "    \n",
    "            env_action = {}\n",
    "            \n",
    "            env_action[\"camera\"] = [0, camera_action.detach().cpu().item()]\n",
    "            env_action[\"attack\"] = 0\n",
    "            env_action[\"back\"] = 0\n",
    "            env_action[\"forward\"] = 1\n",
    "            env_action[\"jump\"] = 1\n",
    "            env_action[\"left\"] = 0\n",
    "            env_action[\"place\"] = \"none\"\n",
    "            env_action[\"right\"] = 0\n",
    "            env_action[\"sneak\"] = 0\n",
    "            env_action[\"sprint\"] = 0\n",
    "    \n",
    "            steps = steps + 1\n",
    "            next_obs, reward, done, info = env.step(env_action)\n",
    "            \n",
    "            next_obs[\"pov\"] = next_obs[\"pov\"].reshape(3,64,64)\n",
    "            next_obs[\"pov\"] = torch.from_numpy(next_obs[\"pov\"]).float().to(device).unsqueeze(0)\n",
    "            next_obs[\"compassAngle\"] = torch.from_numpy(next_obs[\"compassAngle\"]).float().to(device).unsqueeze(0)\n",
    "    \n",
    "            camera_action = camera_action.unsqueeze(0)\n",
    "            reward = torch.tensor([reward], device=device)\n",
    "            done = torch.tensor([done], device=device).int()\n",
    "            \n",
    "            \n",
    "            agent.memory.store_transition(obs, camera_action, next_obs, reward, done)\n",
    "            #print(\"Step Reward:\", reward)\n",
    "            agent.evaluate()\n",
    "            obs = next_obs     \n",
    "            episodic_rewards[episode] += reward\n",
    "            episodic_moves[episode] += 1\n",
    "    \n",
    "        #print(episode)\n",
    "        print(\"Episode Reward:\", episodic_rewards[episode])\n",
    "        agent.alpha = np.clip(agent.alpha * config[\"DECAY_ALPHA\"], 0.01, .99)\n",
    "    return episodic_rewards, episodic_moves        \n",
    "     \n",
    "    # Do something"
   ]
  },
  {
   "cell_type": "code",
   "execution_count": 14,
   "metadata": {},
   "outputs": [],
   "source": [
    "%run SoftAC.ipynb\n",
    "agent_config = {\n",
    "    \"ALPHA\": .5,\n",
    "    \"GAMMA\": .99,\n",
    "    \"POLYAK\": .99,\n",
    "    \"LEARNING_RATE\": .00001,\n",
    "    \"MAX_MEMORY\": 50000,\n",
    "    \"BATCH_SIZE\": 24\n",
    "}\n",
    "agent = SoftACAgent(env, agent_config)"
   ]
  },
  {
   "cell_type": "code",
   "execution_count": 15,
   "metadata": {},
   "outputs": [
    {
     "name": "stdout",
     "output_type": "stream",
     "text": [
      "Episode Reward: tensor([150.9814], device='cuda:0')\n",
      "Episode Reward: tensor([-18.1095], device='cuda:0')\n",
      "Episode Reward: tensor([-33.0356], device='cuda:0')\n",
      "Episode Reward: tensor([-60.5006], device='cuda:0')\n",
      "Episode Reward: tensor([148.4782], device='cuda:0')\n",
      "Episode Reward: tensor([8.9707], device='cuda:0')\n",
      "Episode Reward: tensor([2.4359], device='cuda:0')\n",
      "Episode Reward: tensor([-109.4196], device='cuda:0')\n",
      "Episode Reward: tensor([-8.6251], device='cuda:0')\n",
      "Episode Reward: tensor([-133.9125], device='cuda:0')\n",
      "Episode Reward: tensor([-131.4520], device='cuda:0')\n",
      "Episode Reward: tensor([-41.1256], device='cuda:0')\n",
      "Episode Reward: tensor([-205.0617], device='cuda:0')\n",
      "Episode Reward: tensor([-94.6793], device='cuda:0')\n",
      "Episode Reward: tensor([-295.4814], device='cuda:0')\n",
      "Episode Reward: tensor([-233.5672], device='cuda:0')\n",
      "Episode Reward: tensor([-45.5719], device='cuda:0')\n",
      "Episode Reward: tensor([-156.7857], device='cuda:0')\n",
      "Episode Reward: tensor([-173.3141], device='cuda:0')\n",
      "Episode Reward: tensor([-64.7089], device='cuda:0')\n",
      "Episode Reward: tensor([-96.8129], device='cuda:0')\n",
      "Episode Reward: tensor([-252.5289], device='cuda:0')\n",
      "Episode Reward: tensor([-121.7096], device='cuda:0')\n",
      "Episode Reward: tensor([-63.8424], device='cuda:0')\n",
      "Episode Reward: tensor([-222.8001], device='cuda:0')\n"
     ]
    }
   ],
   "source": [
    "train_config = {\n",
    "    \"NUM_EPISODES\": 25,\n",
    "    \"DECAY_ALPHA\": .9\n",
    "}\n",
    "rew, moves = train(env, agent, train_config)"
   ]
  },
  {
   "cell_type": "code",
   "execution_count": 27,
   "metadata": {},
   "outputs": [
    {
     "name": "stdout",
     "output_type": "stream",
     "text": [
      "Failed to delete the temporary minecraft directory.\n"
     ]
    }
   ],
   "source": [
    "env.close()"
   ]
  },
  {
   "cell_type": "code",
   "execution_count": 24,
   "metadata": {},
   "outputs": [
    {
     "data": {
      "image/png": "[encoded data removed]",
      "text/plain": [
       "<Figure size 432x288 with 1 Axes>"
      ]
     },
     "metadata": {
      "needs_background": "light"
     },
     "output_type": "display_data"
    }
   ],
   "source": [
    "import matplotlib.pyplot as plt\n",
    "plt.plot(rew, 'r')\n",
    "plt.suptitle('Episodic Reward')\n",
    "plt.ylabel('Reward')\n",
    "plt.xlabel('Episode')\n",
    "plt.show()"
   ]
  },
  {
   "cell_type": "code",
   "execution_count": 11,
   "metadata": {},
   "outputs": [
    {
     "data": {
      "text/plain": [
       "tensor([-10.9511], device='cuda:0')"
      ]
     },
     "execution_count": 11,
     "metadata": {},
     "output_type": "execute_result"
    }
   ],
   "source": [
    "sum(rew)/len(rew)"
   ]
  },
  {
   "cell_type": "code",
   "execution_count": 12,
   "metadata": {},
   "outputs": [
    {
     "data": {
      "text/plain": [
       "tensor([64.6927], device='cuda:0')"
      ]
     },
     "execution_count": 12,
     "metadata": {},
     "output_type": "execute_result"
    }
   ],
   "source": [
    "max(rew)"
   ]
  },
  {
   "cell_type": "code",
   "execution_count": 13,
   "metadata": {},
   "outputs": [
    {
     "data": {
      "text/plain": [
       "6000"
      ]
     },
     "execution_count": 13,
     "metadata": {},
     "output_type": "execute_result"
    }
   ],
   "source": [
    "moves[0]"
   ]
  },
  {
   "cell_type": "code",
   "execution_count": 18,
   "metadata": {},
   "outputs": [],
   "source": [
    "torch.save(agent.critic1.state_dict(), 'c1.pt')\n",
    "torch.save(agent.critic2.state_dict(), 'c2.pt')\n",
    "torch.save(agent.actor.state_dict(), 'a.pt')"
   ]
  },
  {
   "cell_type": "code",
   "execution_count": 20,
   "metadata": {},
   "outputs": [],
   "source": [
    "from numpy import save\n",
    "save('rew.npy', rew)\n",
    "save('moves.npy', moves)"
   ]
  },
  {
   "cell_type": "code",
   "execution_count": 21,
   "metadata": {},
   "outputs": [],
   "source": [
    "def perform(env, agent):\n",
    "    obs = env.reset()\n",
    "    done = False\n",
    "    rews = []\n",
    "    obs[\"compassAngle\"] = torch.from_numpy(obs[\"compassAngle\"]).float().to(device).unsqueeze(0)\n",
    "    while not done:\n",
    "        camera_action = agent.step(obs, True)\n",
    "        env_action = {}\n",
    "            \n",
    "        env_action[\"camera\"] = [0, camera_action.detach().cpu().item()]\n",
    "        env_action[\"attack\"] = 0\n",
    "        env_action[\"back\"] = 0\n",
    "        env_action[\"forward\"] = 1\n",
    "        env_action[\"jump\"] = 1\n",
    "        env_action[\"left\"] = 0\n",
    "        env_action[\"place\"] = \"none\"\n",
    "        env_action[\"right\"] = 0\n",
    "        env_action[\"sneak\"] = 0\n",
    "        env_action[\"sprint\"] = 0\n",
    "        \n",
    "        obs, reward, done, info = env.step(env_action)\n",
    "        env.render()\n",
    "        rews.append(reward)\n",
    "        obs[\"compassAngle\"] = torch.from_numpy(obs[\"compassAngle\"]).float().to(device).unsqueeze(0)\n",
    "    plt.plot(rews)\n",
    "    plt.show()"
   ]
  },
  {
   "cell_type": "code",
   "execution_count": null,
   "metadata": {},
   "outputs": [],
   "source": [
    "#%run SoftAC.ipynb\n",
    "#agent = SoftACAgent(env, agent_config)\n",
    "#agent.critic1.load_state_dict(torch.load('c1.pt'))\n",
    "#agent.critic2.load_state_dict(torch.load('c2.pt'))\n",
    "#agent.actor.load_state_dict(torch.load('a.pt'))"
   ]
  },
  {
   "cell_type": "code",
   "execution_count": 28,
   "metadata": {},
   "outputs": [
    {
     "ename": "AttributeError",
     "evalue": "'NoneType' object has no attribute 'sendall'",
     "output_type": "error",
     "traceback": [
      "\u001b[1;31m---------------------------------------------------------------------------\u001b[0m",
      "\u001b[1;31mAttributeError\u001b[0m                            Traceback (most recent call last)",
      "\u001b[1;32m<ipython-input-28-45b8d23dd783>\u001b[0m in \u001b[0;36m<module>\u001b[1;34m\u001b[0m\n\u001b[1;32m----> 1\u001b[1;33m \u001b[0mperform\u001b[0m\u001b[1;33m(\u001b[0m\u001b[0menv\u001b[0m\u001b[1;33m,\u001b[0m\u001b[0magent\u001b[0m\u001b[1;33m)\u001b[0m\u001b[1;33m\u001b[0m\u001b[1;33m\u001b[0m\u001b[0m\n\u001b[0m",
      "\u001b[1;32m<ipython-input-21-48c5ca9a5c66>\u001b[0m in \u001b[0;36mperform\u001b[1;34m(env, agent)\u001b[0m\n\u001b[0;32m      1\u001b[0m \u001b[1;32mdef\u001b[0m \u001b[0mperform\u001b[0m\u001b[1;33m(\u001b[0m\u001b[0menv\u001b[0m\u001b[1;33m,\u001b[0m \u001b[0magent\u001b[0m\u001b[1;33m)\u001b[0m\u001b[1;33m:\u001b[0m\u001b[1;33m\u001b[0m\u001b[1;33m\u001b[0m\u001b[0m\n\u001b[1;32m----> 2\u001b[1;33m     \u001b[0mobs\u001b[0m \u001b[1;33m=\u001b[0m \u001b[0menv\u001b[0m\u001b[1;33m.\u001b[0m\u001b[0mreset\u001b[0m\u001b[1;33m(\u001b[0m\u001b[1;33m)\u001b[0m\u001b[1;33m\u001b[0m\u001b[1;33m\u001b[0m\u001b[0m\n\u001b[0m\u001b[0;32m      3\u001b[0m     \u001b[0mdone\u001b[0m \u001b[1;33m=\u001b[0m \u001b[1;32mFalse\u001b[0m\u001b[1;33m\u001b[0m\u001b[1;33m\u001b[0m\u001b[0m\n\u001b[0;32m      4\u001b[0m     \u001b[0mrews\u001b[0m \u001b[1;33m=\u001b[0m \u001b[1;33m[\u001b[0m\u001b[1;33m]\u001b[0m\u001b[1;33m\u001b[0m\u001b[1;33m\u001b[0m\u001b[0m\n\u001b[0;32m      5\u001b[0m     \u001b[0mobs\u001b[0m\u001b[1;33m[\u001b[0m\u001b[1;34m\"compassAngle\"\u001b[0m\u001b[1;33m]\u001b[0m \u001b[1;33m=\u001b[0m \u001b[0mtorch\u001b[0m\u001b[1;33m.\u001b[0m\u001b[0mfrom_numpy\u001b[0m\u001b[1;33m(\u001b[0m\u001b[0mobs\u001b[0m\u001b[1;33m[\u001b[0m\u001b[1;34m\"compassAngle\"\u001b[0m\u001b[1;33m]\u001b[0m\u001b[1;33m)\u001b[0m\u001b[1;33m.\u001b[0m\u001b[0mfloat\u001b[0m\u001b[1;33m(\u001b[0m\u001b[1;33m)\u001b[0m\u001b[1;33m.\u001b[0m\u001b[0mto\u001b[0m\u001b[1;33m(\u001b[0m\u001b[0mdevice\u001b[0m\u001b[1;33m)\u001b[0m\u001b[1;33m.\u001b[0m\u001b[0munsqueeze\u001b[0m\u001b[1;33m(\u001b[0m\u001b[1;36m0\u001b[0m\u001b[1;33m)\u001b[0m\u001b[1;33m\u001b[0m\u001b[1;33m\u001b[0m\u001b[0m\n",
      "\u001b[1;32m~\\Anaconda3\\envs\\FallSemester\\lib\\site-packages\\gym\\wrappers\\time_limit.py\u001b[0m in \u001b[0;36mreset\u001b[1;34m(self, **kwargs)\u001b[0m\n\u001b[0;32m     23\u001b[0m     \u001b[1;32mdef\u001b[0m \u001b[0mreset\u001b[0m\u001b[1;33m(\u001b[0m\u001b[0mself\u001b[0m\u001b[1;33m,\u001b[0m \u001b[1;33m**\u001b[0m\u001b[0mkwargs\u001b[0m\u001b[1;33m)\u001b[0m\u001b[1;33m:\u001b[0m\u001b[1;33m\u001b[0m\u001b[1;33m\u001b[0m\u001b[0m\n\u001b[0;32m     24\u001b[0m         \u001b[0mself\u001b[0m\u001b[1;33m.\u001b[0m\u001b[0m_elapsed_steps\u001b[0m \u001b[1;33m=\u001b[0m \u001b[1;36m0\u001b[0m\u001b[1;33m\u001b[0m\u001b[1;33m\u001b[0m\u001b[0m\n\u001b[1;32m---> 25\u001b[1;33m         \u001b[1;32mreturn\u001b[0m \u001b[0mself\u001b[0m\u001b[1;33m.\u001b[0m\u001b[0menv\u001b[0m\u001b[1;33m.\u001b[0m\u001b[0mreset\u001b[0m\u001b[1;33m(\u001b[0m\u001b[1;33m**\u001b[0m\u001b[0mkwargs\u001b[0m\u001b[1;33m)\u001b[0m\u001b[1;33m\u001b[0m\u001b[1;33m\u001b[0m\u001b[0m\n\u001b[0m",
      "\u001b[1;32m~\\Anaconda3\\envs\\FallSemester\\lib\\site-packages\\minerl\\env\\core.py\u001b[0m in \u001b[0;36mreset\u001b[1;34m(self)\u001b[0m\n\u001b[0;32m    480\u001b[0m \u001b[1;33m\u001b[0m\u001b[0m\n\u001b[0;32m    481\u001b[0m             \u001b[1;32mwhile\u001b[0m \u001b[1;32mnot\u001b[0m \u001b[0mself\u001b[0m\u001b[1;33m.\u001b[0m\u001b[0mdone\u001b[0m\u001b[1;33m:\u001b[0m\u001b[1;33m\u001b[0m\u001b[1;33m\u001b[0m\u001b[0m\n\u001b[1;32m--> 482\u001b[1;33m                 \u001b[0mself\u001b[0m\u001b[1;33m.\u001b[0m\u001b[0mdone\u001b[0m \u001b[1;33m=\u001b[0m \u001b[0mself\u001b[0m\u001b[1;33m.\u001b[0m\u001b[0m_quit_episode\u001b[0m\u001b[1;33m(\u001b[0m\u001b[1;33m)\u001b[0m\u001b[1;33m\u001b[0m\u001b[1;33m\u001b[0m\u001b[0m\n\u001b[0m\u001b[0;32m    483\u001b[0m \u001b[1;33m\u001b[0m\u001b[0m\n\u001b[0;32m    484\u001b[0m                 \u001b[1;32mif\u001b[0m \u001b[1;32mnot\u001b[0m \u001b[0mself\u001b[0m\u001b[1;33m.\u001b[0m\u001b[0mdone\u001b[0m\u001b[1;33m:\u001b[0m\u001b[1;33m\u001b[0m\u001b[1;33m\u001b[0m\u001b[0m\n",
      "\u001b[1;32m~\\Anaconda3\\envs\\FallSemester\\lib\\site-packages\\minerl\\env\\core.py\u001b[0m in \u001b[0;36m_quit_episode\u001b[1;34m(self)\u001b[0m\n\u001b[0;32m    580\u001b[0m \u001b[1;33m\u001b[0m\u001b[0m\n\u001b[0;32m    581\u001b[0m     \u001b[1;32mdef\u001b[0m \u001b[0m_quit_episode\u001b[0m\u001b[1;33m(\u001b[0m\u001b[0mself\u001b[0m\u001b[1;33m)\u001b[0m\u001b[1;33m:\u001b[0m\u001b[1;33m\u001b[0m\u001b[1;33m\u001b[0m\u001b[0m\n\u001b[1;32m--> 582\u001b[1;33m         \u001b[0mcomms\u001b[0m\u001b[1;33m.\u001b[0m\u001b[0msend_message\u001b[0m\u001b[1;33m(\u001b[0m\u001b[0mself\u001b[0m\u001b[1;33m.\u001b[0m\u001b[0mclient_socket\u001b[0m\u001b[1;33m,\u001b[0m \u001b[1;34m\"<Quit/>\"\u001b[0m\u001b[1;33m.\u001b[0m\u001b[0mencode\u001b[0m\u001b[1;33m(\u001b[0m\u001b[1;33m)\u001b[0m\u001b[1;33m)\u001b[0m\u001b[1;33m\u001b[0m\u001b[1;33m\u001b[0m\u001b[0m\n\u001b[0m\u001b[0;32m    583\u001b[0m         \u001b[0mreply\u001b[0m \u001b[1;33m=\u001b[0m \u001b[0mcomms\u001b[0m\u001b[1;33m.\u001b[0m\u001b[0mrecv_message\u001b[0m\u001b[1;33m(\u001b[0m\u001b[0mself\u001b[0m\u001b[1;33m.\u001b[0m\u001b[0mclient_socket\u001b[0m\u001b[1;33m)\u001b[0m\u001b[1;33m\u001b[0m\u001b[1;33m\u001b[0m\u001b[0m\n\u001b[0;32m    584\u001b[0m         \u001b[0mok\u001b[0m\u001b[1;33m,\u001b[0m \u001b[1;33m=\u001b[0m \u001b[0mstruct\u001b[0m\u001b[1;33m.\u001b[0m\u001b[0munpack\u001b[0m\u001b[1;33m(\u001b[0m\u001b[1;34m'!I'\u001b[0m\u001b[1;33m,\u001b[0m \u001b[0mreply\u001b[0m\u001b[1;33m)\u001b[0m\u001b[1;33m\u001b[0m\u001b[1;33m\u001b[0m\u001b[0m\n",
      "\u001b[1;32m~\\Anaconda3\\envs\\FallSemester\\lib\\site-packages\\minerl\\env\\comms.py\u001b[0m in \u001b[0;36msend_message\u001b[1;34m(sock, data)\u001b[0m\n\u001b[0;32m     55\u001b[0m \u001b[1;32mdef\u001b[0m \u001b[0msend_message\u001b[0m\u001b[1;33m(\u001b[0m\u001b[0msock\u001b[0m\u001b[1;33m,\u001b[0m \u001b[0mdata\u001b[0m\u001b[1;33m)\u001b[0m\u001b[1;33m:\u001b[0m\u001b[1;33m\u001b[0m\u001b[1;33m\u001b[0m\u001b[0m\n\u001b[0;32m     56\u001b[0m     \u001b[0mlength\u001b[0m \u001b[1;33m=\u001b[0m \u001b[0mlen\u001b[0m\u001b[1;33m(\u001b[0m\u001b[0mdata\u001b[0m\u001b[1;33m)\u001b[0m\u001b[1;33m\u001b[0m\u001b[1;33m\u001b[0m\u001b[0m\n\u001b[1;32m---> 57\u001b[1;33m     \u001b[0msock\u001b[0m\u001b[1;33m.\u001b[0m\u001b[0msendall\u001b[0m\u001b[1;33m(\u001b[0m\u001b[0mstruct\u001b[0m\u001b[1;33m.\u001b[0m\u001b[0mpack\u001b[0m\u001b[1;33m(\u001b[0m\u001b[1;34m'!I'\u001b[0m\u001b[1;33m,\u001b[0m \u001b[0mlength\u001b[0m\u001b[1;33m)\u001b[0m\u001b[1;33m)\u001b[0m\u001b[1;33m\u001b[0m\u001b[1;33m\u001b[0m\u001b[0m\n\u001b[0m\u001b[0;32m     58\u001b[0m     \u001b[0msock\u001b[0m\u001b[1;33m.\u001b[0m\u001b[0msendall\u001b[0m\u001b[1;33m(\u001b[0m\u001b[0mdata\u001b[0m\u001b[1;33m)\u001b[0m\u001b[1;33m\u001b[0m\u001b[1;33m\u001b[0m\u001b[0m\n\u001b[0;32m     59\u001b[0m \u001b[1;33m\u001b[0m\u001b[0m\n",
      "\u001b[1;31mAttributeError\u001b[0m: 'NoneType' object has no attribute 'sendall'"
     ]
    }
   ],
   "source": [
    "perform(env,agent)"
   ]
  },
  {
   "cell_type": "code",
   "execution_count": null,
   "metadata": {},
   "outputs": [],
   "source": []
  }
 ],
 "metadata": {
  "kernelspec": {
   "display_name": "myenv",
   "language": "python",
   "name": "myenv"
  },
  "language_info": {
   "codemirror_mode": {
    "name": "ipython",
    "version": 3
   },
   "file_extension": ".py",
   "mimetype": "text/x-python",
   "name": "python",
   "nbconvert_exporter": "python",
   "pygments_lexer": "ipython3",
   "version": "3.7.9"
  }
 },
 "nbformat": 4,
 "nbformat_minor": 4
}
